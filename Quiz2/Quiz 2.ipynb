{
 "cells": [
  {
   "attachments": {},
   "cell_type": "markdown",
   "metadata": {},
   "source": [
    "# <span style=\"color:darkblue\"> QTM 151 - Quiz 2 </span>"
   ]
  },
  {
   "attachments": {},
   "cell_type": "markdown",
   "metadata": {},
   "source": [
    "## Try to submit as an HTML file"
   ]
  },
  {
   "attachments": {},
   "cell_type": "markdown",
   "metadata": {},
   "source": [
    "<font size=\"5\"> \n",
    "\n",
    "Print your name below"
   ]
  },
  {
   "cell_type": "code",
   "execution_count": 1,
   "metadata": {},
   "outputs": [
    {
     "name": "stdout",
     "output_type": "stream",
     "text": [
      "2556778\n"
     ]
    }
   ],
   "source": [
    "# Write your answer here\n",
    "\n",
    "print (\"2556778\")\n"
   ]
  },
  {
   "attachments": {},
   "cell_type": "markdown",
   "metadata": {},
   "source": [
    "<font size = \"5\" >\n",
    "This quiz is open book \n",
    "\n",
    "- You can use the lecture notes\n",
    "- You will get partial credit for attempting the questions\n",
    "- To get full credit, the code should run as intended\n",
    "- You should <span style=\"color:red\"> NOT </span> communicate with other students\n",
    "\n",
    "Print the following message: <br>\n",
    "\n",
    "\"I will abide by Emory's code of conduct\"\n"
   ]
  },
  {
   "cell_type": "code",
   "execution_count": 2,
   "metadata": {},
   "outputs": [
    {
     "name": "stdout",
     "output_type": "stream",
     "text": [
      "I will abide by Emory's code of conduct\n"
     ]
    }
   ],
   "source": [
    "# Write your answer here:\n",
    "\n",
    "print (\"I will abide by Emory's code of conduct\")\n"
   ]
  },
  {
   "attachments": {},
   "cell_type": "markdown",
   "metadata": {},
   "source": [
    "<font size = \"5\">\n",
    "\n",
    "Import the libraries \"numpy\", \"matplotlib.pyplot\", <br>\n",
    "\"pandas\", \"statsmodels.api\" and \"statsmodels.formula.api\"\n"
   ]
  },
  {
   "cell_type": "code",
   "execution_count": 3,
   "metadata": {},
   "outputs": [],
   "source": [
    "# Write your answer here\n",
    "\n",
    "import numpy as np\n",
    "import matplotlib.pyplot as plt\n",
    "import pandas as pd\n",
    "import statsmodels.api as sm\n",
    "import statsmodels.formula.api as smf"
   ]
  },
  {
   "attachments": {},
   "cell_type": "markdown",
   "metadata": {},
   "source": [
    "<font size = \"5\">\n",
    "\n",
    "Read the dataset \"data_quiz/fifa23_players_basic.csv\"\n",
    "\n",
    "- It's a dataset on professional soccer players\n",
    "- Rows correspond to players (18,539)\n",
    "- Columns contain attributes of players (32)\n",
    "- Try to view the dataset before starting <br>\n",
    "to get a sense of its content"
   ]
  },
  {
   "cell_type": "code",
   "execution_count": 4,
   "metadata": {},
   "outputs": [],
   "source": [
    "# Write your own code\n",
    "\n",
    "ds = pd.read_csv(\"data_quiz/fifa23_players_basic.csv\")\n"
   ]
  },
  {
   "attachments": {},
   "cell_type": "markdown",
   "metadata": {},
   "source": [
    "<font size = \"5\">\n",
    "\n",
    "(a) Use queries + global variables\n",
    "\n",
    "<font size = \"3\">\n",
    "\n",
    "- Subset the players whose value of the column \"On Loan\" is \"YES\" <br>\n",
    "and store it in a new dataset\n",
    "- How many players are on loan?\n",
    "\n",
    "HINT: Remember that there is a special syntax for <br>\n",
    "when the column names have spaces (see Lecture 10) <br>\n",
    "and when the value is a string. <br>\n",
    "Reference the column as ``` `On Loan` ``` inside .query()"
   ]
  },
  {
   "cell_type": "code",
   "execution_count": 5,
   "metadata": {},
   "outputs": [
    {
     "name": "stdout",
     "output_type": "stream",
     "text": [
      "1229\n"
     ]
    }
   ],
   "source": [
    "# Write your own code\n",
    "\n",
    "on_loan_players = ds.query('`On Loan` == \"YES\"')\n",
    "\n",
    "print(len(on_loan_players))\n"
   ]
  },
  {
   "attachments": {},
   "cell_type": "markdown",
   "metadata": {},
   "source": [
    "<font size = \"5\">\n",
    "\n",
    "(b) Create a function and apply it to a column <br>\n",
    "\n",
    "<font size = \"3\">\n",
    "\n",
    "Step 1:\n",
    "- Define a function with a parameter \"Overall\"\n",
    "- If \"Overall > 90\", classification = \"Top Performer\"\n",
    "- If \"Overall <= 90\", classification = \"Non Top-Performer\"\n",
    "- The function returns \"classification\"\n",
    "\n",
    "Step 2:\n",
    "- Extract the column \"Overall\" in the dataset <br>\n",
    "(be carefeful to write the \"O\" capitalized)\n",
    "- Create a new variable called \"player_classification\" <br>\n",
    "to assign each player to the correct classification\n",
    "\n",
    "HINT: Use the \".apply()\" function"
   ]
  },
  {
   "cell_type": "code",
   "execution_count": 6,
   "metadata": {},
   "outputs": [],
   "source": [
    "# Write your own code\n",
    "\n",
    "def classify_player(overall):\n",
    "    if overall > 90:\n",
    "        return \"Top Performer\"\n",
    "    else:\n",
    "        return \"Non Top-Performer\"\n",
    "\n",
    "ds['player_classification'] = ds['Overall'].apply(classify_player)\n"
   ]
  },
  {
   "attachments": {},
   "cell_type": "markdown",
   "metadata": {},
   "source": [
    "<font size = \"5\">\n",
    "\n",
    "(c) Use sorting + \".iloc[]\"\n",
    "\n",
    "<font size = \"3\">\n",
    "\n",
    "The varable \"Joined On\" shows the date in which each player joined FIFA\n",
    "- Use \".sort_values()\" to order the \"Joined On\" column <br>\n",
    "from earlier data to later date\n",
    "- Get a subset with the 6 players in the dataset <br>\n",
    "who joined FIFA earliest\n",
    "- From this subset, display the year in which they joined <br>\n",
    "by displaying the column \"Joined On\""
   ]
  },
  {
   "cell_type": "code",
   "execution_count": 7,
   "metadata": {},
   "outputs": [
    {
     "name": "stdout",
     "output_type": "stream",
     "text": [
      "8586     2002\n",
      "10877    2003\n",
      "4324     2004\n",
      "11056    2005\n",
      "10360    2005\n",
      "11768    2005\n",
      "Name: Joined On, dtype: int64\n"
     ]
    }
   ],
   "source": [
    "# Write your own code\n",
    "\n",
    "sorted_players = ds.sort_values(by='Joined On')\n",
    "\n",
    "earliest_players = sorted_players.head(6)\n",
    "\n",
    "print(earliest_players['Joined On'])\n"
   ]
  },
  {
   "attachments": {},
   "cell_type": "markdown",
   "metadata": {},
   "source": [
    "<font size = \"5\">\n",
    "\n",
    "(d) Regression function\n",
    "\n",
    "<font size = \"3\">\n",
    "\n",
    "- Run a regression of \"Potential\" (left-hand side) on \"Age\" (right-hand side)\n",
    "- What are the values of the coefficients?\n",
    "\n",
    "[HINT: Use the commands ```smf.ols()``` and ```.fit()``` and ```.params``` <br>\n",
    "from Lecture 11 ]\n"
   ]
  },
  {
   "cell_type": "code",
   "execution_count": 8,
   "metadata": {},
   "outputs": [
    {
     "name": "stdout",
     "output_type": "stream",
     "text": [
      "Intercept    79.752454\n",
      "Age          -0.346103\n",
      "dtype: float64\n"
     ]
    }
   ],
   "source": [
    "# Write your own code\n",
    "\n",
    "result = smf.ols('Potential ~ Age', data = ds).fit()\n",
    "print(result.params)\n"
   ]
  },
  {
   "attachments": {},
   "cell_type": "markdown",
   "metadata": {},
   "source": [
    "<font size = \"5\">\n",
    "\n",
    "(e) Split a dataset into subsets\n",
    "\n",
    "<font size = \"3\">\n",
    "\n",
    "- Store the total number of rows of the dataset in a variable called ```n``` <br>\n",
    "- Create a new variable called ```random_var``` drawn from a <br>\n",
    "uniform distribution between 0 and 1 with size ```n```\n",
    "- Use .query() to subset all observations with ```random_var <0.5```.<br>\n",
    "store it in a new dataset called \"data0\"\n",
    "- Use .query() to subset all observations with ```random_var >= 0.5```.<br>\n",
    "store it in a new dataset called \"data1\"\n",
    "\n",
    "[HINT: See Lecture 2 for how to generate a uniform random variable]\n"
   ]
  },
  {
   "cell_type": "code",
   "execution_count": 9,
   "metadata": {},
   "outputs": [],
   "source": [
    "# Write your own code\n",
    "\n",
    "n = len(ds)\n",
    "\n",
    "random_var = np.random.uniform(0, 1, n)\n",
    "ds['random_var'] = random_var\n",
    "\n",
    "data0 = ds.query('random_var < 0.5')\n",
    "\n",
    "data1 = ds.query('random_var >= 0.5')"
   ]
  },
  {
   "attachments": {},
   "cell_type": "markdown",
   "metadata": {},
   "source": [
    "<font size = \"5\">\n",
    "\n",
    "(f) Create two overlapping histogram plots\n",
    "\n",
    "<font size = \"3\">\n",
    "\n",
    "- This question requires the two datasets you created in (e)\n",
    "- Display the distribution of \"Age\" for \"data0\" and \"data1\" using <br>\n",
    "```plt.hist()```\n",
    "- You will need to label the axes, and the title\n",
    "- To get full points, plot the histograms with the option  ```alpha = 0.5```, e.g. <br>\n",
    " ``` plt.hist(x = ..., alpha = 0.5) ``` <br>\n",
    " Make sure to substitute the corresponding \"x\" vector instead of ```...``` <br>\n",
    "(The alpha option sets the transparency of the histogram )\n",
    "\n",
    "Note: The goal of this question is to illustrate that random <br>\n",
    "assignment produces very similar distributions between two groups"
   ]
  },
  {
   "cell_type": "code",
   "execution_count": 10,
   "metadata": {},
   "outputs": [
    {
     "data": {
      "image/png": "[encoded data removed]",
      "text/plain": [
       "<Figure size 640x480 with 1 Axes>"
      ]
     },
     "metadata": {},
     "output_type": "display_data"
    }
   ],
   "source": [
    "# Write your own code\n",
    "\n",
    "plt.hist(data0['Age'], alpha=0.5, label='Data0')\n",
    "plt.hist(data1['Age'], alpha=0.5, label='Data1')\n",
    "\n",
    "plt.xlabel('Age')\n",
    "plt.ylabel('Frequency')\n",
    "plt.title('Age Distribution')\n",
    "plt.legend()\n",
    "plt.show()\n"
   ]
  }
 ],
 "metadata": {
  "kernelspec": {
   "display_name": "base",
   "language": "python",
   "name": "python3"
  },
  "language_info": {
   "codemirror_mode": {
    "name": "ipython",
    "version": 3
   },
   "file_extension": ".py",
   "mimetype": "text/x-python",
   "name": "python",
   "nbconvert_exporter": "python",
   "pygments_lexer": "ipython3",
   "version": "3.11.5"
  },
  "orig_nbformat": 4,
  "vscode": {
   "interpreter": {
    "hash": "45fc1f684f6f416f40889115beff3ddf69879b64cf4bfee48cb72a61e9d15d1a"
   }
  }
 },
 "nbformat": 4,
 "nbformat_minor": 2
}
